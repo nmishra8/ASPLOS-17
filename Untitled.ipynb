{
 "cells": [
  {
   "cell_type": "code",
   "execution_count": 162,
   "metadata": {
    "collapsed": false
   },
   "outputs": [],
   "source": [
    "import pandas as pd\n",
    "import numpy as np\n",
    "extn = [\"{0:.2f}\".format(item/100) for item in list(range(60,95,5))]\n",
    "arr  = (\"single-app/dyn-eff\",\"single-app/dyn-lat\",\"multi-app/ma-eff\",\"multi-app/ma-lat\")\n",
    "\n",
    "for i in extn:\n",
    "    for j in arr:\n",
    "        var = j.split('/')\n",
    "\n",
    "        inputt='img/' + j +'-' +i+ '-v3.txt'\n",
    "        output='img/image_text/' + var[1] + '-' + i+'-v3.txt'\n",
    "        #print(i, j, var )\n",
    "        #print('--',var)\n",
    "        #print(var[0], var[1])\n",
    "        #print(i, j, inputt, output, var )\n",
    "\n",
    "        f        = open(inputt, 'r')  \n",
    "        table    = [row.strip().split('\\t')[0].split() for row in f if 'AVERAGE']\n",
    "        All_data = np.array([table[i][1:] for i in range(1,len(table)-1)]).astype(float)\n",
    "\n",
    "        tmp = j.split('-')\n",
    "        if tmp[0] == 'single' and tmp[2] == 'lat':\n",
    "            All_data = 100*All_data\n",
    "        f.close()\n",
    "        \n",
    "        algorithms = table[0][1:]\n",
    "        benchmarks = np.append(np.array(table)[0:-1,0], 'AVERAGE')\n",
    "\n",
    "        final_data= np.round(np.vstack((All_data,All_data.mean(0))), decimals=2)\n",
    "    #benchmarks = np.append(benchmarks, 'AVERAGE')\n",
    "    #tablee = np.round(pd.DataFrame(All_data, columns = algorithms,index=benchmarks))\n",
    "    #tablee.to_csv('output.txt',sep=',',skipinitialspace=True);\n",
    "\n",
    "        a = np.vstack((algorithms,final_data ))\n",
    "        b = np.column_stack((benchmarks,a))\n",
    "        df = pd.DataFrame(b)\n",
    "        df.to_csv(output,header=False, sep=' ')"
   ]
  },
  {
   "cell_type": "code",
   "execution_count": 163,
   "metadata": {
    "collapsed": false
   },
   "outputs": [
    {
     "data": {
      "text/plain": [
       "['0.60', '0.65', '0.70', '0.75', '0.80', '0.85', '0.90']"
      ]
     },
     "execution_count": 163,
     "metadata": {},
     "output_type": "execute_result"
    }
   ],
   "source": [
    "extn"
   ]
  },
  {
   "cell_type": "code",
   "execution_count": 164,
   "metadata": {
    "collapsed": false
   },
   "outputs": [
    {
     "data": {
      "text/plain": [
       "[(0, 'OPTIMAL'),\n",
       " (1, 'RACE'),\n",
       " (2, 'ONLINE'),\n",
       " (3, 'OFFLINE'),\n",
       " (4, 'NUCLEAR'),\n",
       " (5, 'HBM'),\n",
       " (6, 'CONTROL'),\n",
       " (7, 'ADAPT-CONTROL'),\n",
       " (8, 'CALOREE-NP'),\n",
       " (9, 'ONLINE-ADAPT'),\n",
       " (10, 'NUCLEAR-ADAPT'),\n",
       " (11, 'HBM-ADAPT')]"
      ]
     },
     "execution_count": 164,
     "metadata": {},
     "output_type": "execute_result"
    }
   ],
   "source": [
    "list(enumerate(algorithms))"
   ]
  },
  {
   "cell_type": "code",
   "execution_count": null,
   "metadata": {
    "collapsed": true
   },
   "outputs": [],
   "source": []
  }
 ],
 "metadata": {
  "anaconda-cloud": {},
  "kernelspec": {
   "display_name": "Python [conda root]",
   "language": "python",
   "name": "conda-root-py"
  },
  "language_info": {
   "codemirror_mode": {
    "name": "ipython",
    "version": 3
   },
   "file_extension": ".py",
   "mimetype": "text/x-python",
   "name": "python",
   "nbconvert_exporter": "python",
   "pygments_lexer": "ipython3",
   "version": "3.5.2"
  }
 },
 "nbformat": 4,
 "nbformat_minor": 1
}
